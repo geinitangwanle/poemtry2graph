{
 "cells": [
  {
   "cell_type": "code",
   "execution_count": 1,
   "metadata": {},
   "outputs": [],
   "source": [
    "from diffusers import StableDiffusionPipeline\n",
    "import torch"
   ]
  },
  {
   "cell_type": "code",
   "execution_count": 2,
   "metadata": {},
   "outputs": [
    {
     "data": {
      "application/vnd.jupyter.widget-view+json": {
       "model_id": "83c5da6a7e614bdcb2a935238f084962",
       "version_major": 2,
       "version_minor": 0
      },
      "text/plain": [
       "Fetching 15 files:   0%|          | 0/15 [00:00<?, ?it/s]"
      ]
     },
     "metadata": {},
     "output_type": "display_data"
    },
    {
     "data": {
      "application/vnd.jupyter.widget-view+json": {
       "model_id": "7c4c8c3a9feb415d92df4153ae3c5915",
       "version_major": 2,
       "version_minor": 0
      },
      "text/plain": [
       "model.safetensors:   4%|4         | 21.0M/492M [00:00<?, ?B/s]"
      ]
     },
     "metadata": {},
     "output_type": "display_data"
    },
    {
     "data": {
      "application/vnd.jupyter.widget-view+json": {
       "model_id": "5481651bb95b47cd9802233fccb69cf5",
       "version_major": 2,
       "version_minor": 0
      },
      "text/plain": [
       "diffusion_pytorch_model.safetensors:   3%|3         | 10.5M/335M [00:00<?, ?B/s]"
      ]
     },
     "metadata": {},
     "output_type": "display_data"
    },
    {
     "data": {
      "application/vnd.jupyter.widget-view+json": {
       "model_id": "a6dd343fe2c74de184172d49348a86b2",
       "version_major": 2,
       "version_minor": 0
      },
      "text/plain": [
       "diffusion_pytorch_model.safetensors:   1%|          | 21.0M/3.44G [00:00<?, ?B/s]"
      ]
     },
     "metadata": {},
     "output_type": "display_data"
    },
    {
     "data": {
      "application/vnd.jupyter.widget-view+json": {
       "model_id": "0cff9b188f034040ac147f47b9ad7fe3",
       "version_major": 2,
       "version_minor": 0
      },
      "text/plain": [
       "model.safetensors:   3%|2         | 31.5M/1.22G [00:00<?, ?B/s]"
      ]
     },
     "metadata": {},
     "output_type": "display_data"
    },
    {
     "name": "stderr",
     "output_type": "stream",
     "text": [
      "Error while downloading from https://cdn-lfs.hf.co/repos/66/6f/666f465fa70158515404e8de2c6bc6fe2f90c46f9296293aa14daededeb32c52/9d6a233ff6fd5ccb9f76fd99618d73369c52dd3d8222376384d0e601911089e8?response-content-disposition=inline%3B+filename*%3DUTF-8%27%27model.safetensors%3B+filename%3D%22model.safetensors%22%3B&Expires=1747225619&Policy=eyJTdGF0ZW1lbnQiOlt7IkNvbmRpdGlvbiI6eyJEYXRlTGVzc1RoYW4iOnsiQVdTOkVwb2NoVGltZSI6MTc0NzIyNTYxOX19LCJSZXNvdXJjZSI6Imh0dHBzOi8vY2RuLWxmcy5oZi5jby9yZXBvcy82Ni82Zi82NjZmNDY1ZmE3MDE1ODUxNTQwNGU4ZGUyYzZiYzZmZTJmOTBjNDZmOTI5NjI5M2FhMTRkYWVkZWRlYjMyYzUyLzlkNmEyMzNmZjZmZDVjY2I5Zjc2ZmQ5OTYxOGQ3MzM2OWM1MmRkM2Q4MjIyMzc2Mzg0ZDBlNjAxOTExMDg5ZTg%7EcmVzcG9uc2UtY29udGVudC1kaXNwb3NpdGlvbj0qIn1dfQ__&Signature=M8%7EF51Nm8fainKyAFxi8eRbQTtcszY4qbYqrmxhTHb9hTgbhSNU7fQwWG3mFIqP5BVSrNItry3gaCbdeGI-Uwykif1FU1p63QLG2KPCZCDX1g9uzCjqdxCQvLhrNG489Vn4ZoXvxxj9pQfJbDuMPTFU9L17zgzOvPkDbZySmU-jkszUjuzgPhBIpb9CEaqDarS%7ECDL7Xy4Dt82HafFAGwazc%7Ej%7ErwRy1baXNok5GM1bmQpiJODUpEUcp6WCODU4zNOM4kwqnfld1evXG21g63UHu4V056SnDlSR1kdS6ECj9eHioSQInHkV6xSkE6pF05PVVpSCHAUFkEUvniY2vWw__&Key-Pair-Id=K3RPWS32NSSJCE: HTTPSConnectionPool(host='cdn-lfs.hf.co', port=443): Read timed out.\n",
      "Trying to resume download...\n"
     ]
    },
    {
     "data": {
      "application/vnd.jupyter.widget-view+json": {
       "model_id": "d6f5ed093a134f659f550cc1ea06e1e8",
       "version_major": 2,
       "version_minor": 0
      },
      "text/plain": [
       "model.safetensors:   3%|2         | 31.5M/1.22G [00:00<?, ?B/s]"
      ]
     },
     "metadata": {},
     "output_type": "display_data"
    },
    {
     "name": "stderr",
     "output_type": "stream",
     "text": [
      "Error while downloading from https://cdn-lfs.hf.co/repos/66/6f/666f465fa70158515404e8de2c6bc6fe2f90c46f9296293aa14daededeb32c52/9d6a233ff6fd5ccb9f76fd99618d73369c52dd3d8222376384d0e601911089e8?response-content-disposition=inline%3B+filename*%3DUTF-8%27%27model.safetensors%3B+filename%3D%22model.safetensors%22%3B&Expires=1747225619&Policy=eyJTdGF0ZW1lbnQiOlt7IkNvbmRpdGlvbiI6eyJEYXRlTGVzc1RoYW4iOnsiQVdTOkVwb2NoVGltZSI6MTc0NzIyNTYxOX19LCJSZXNvdXJjZSI6Imh0dHBzOi8vY2RuLWxmcy5oZi5jby9yZXBvcy82Ni82Zi82NjZmNDY1ZmE3MDE1ODUxNTQwNGU4ZGUyYzZiYzZmZTJmOTBjNDZmOTI5NjI5M2FhMTRkYWVkZWRlYjMyYzUyLzlkNmEyMzNmZjZmZDVjY2I5Zjc2ZmQ5OTYxOGQ3MzM2OWM1MmRkM2Q4MjIyMzc2Mzg0ZDBlNjAxOTExMDg5ZTg%7EcmVzcG9uc2UtY29udGVudC1kaXNwb3NpdGlvbj0qIn1dfQ__&Signature=M8%7EF51Nm8fainKyAFxi8eRbQTtcszY4qbYqrmxhTHb9hTgbhSNU7fQwWG3mFIqP5BVSrNItry3gaCbdeGI-Uwykif1FU1p63QLG2KPCZCDX1g9uzCjqdxCQvLhrNG489Vn4ZoXvxxj9pQfJbDuMPTFU9L17zgzOvPkDbZySmU-jkszUjuzgPhBIpb9CEaqDarS%7ECDL7Xy4Dt82HafFAGwazc%7Ej%7ErwRy1baXNok5GM1bmQpiJODUpEUcp6WCODU4zNOM4kwqnfld1evXG21g63UHu4V056SnDlSR1kdS6ECj9eHioSQInHkV6xSkE6pF05PVVpSCHAUFkEUvniY2vWw__&Key-Pair-Id=K3RPWS32NSSJCE: HTTPSConnectionPool(host='cdn-lfs.hf.co', port=443): Read timed out.\n",
      "Trying to resume download...\n"
     ]
    },
    {
     "data": {
      "application/vnd.jupyter.widget-view+json": {
       "model_id": "9382a48faaa74fd6be61e1a0708a5c7d",
       "version_major": 2,
       "version_minor": 0
      },
      "text/plain": [
       "model.safetensors:   3%|2         | 31.5M/1.22G [00:00<?, ?B/s]"
      ]
     },
     "metadata": {},
     "output_type": "display_data"
    },
    {
     "name": "stderr",
     "output_type": "stream",
     "text": [
      "Error while downloading from https://cdn-lfs.hf.co/repos/66/6f/666f465fa70158515404e8de2c6bc6fe2f90c46f9296293aa14daededeb32c52/a2b5134f4dbc140d9c11f11cba3233099e00af40f262f136c691fb7d38d2194c?response-content-disposition=inline%3B+filename*%3DUTF-8%27%27diffusion_pytorch_model.safetensors%3B+filename%3D%22diffusion_pytorch_model.safetensors%22%3B&Expires=1747226910&Policy=eyJTdGF0ZW1lbnQiOlt7IkNvbmRpdGlvbiI6eyJEYXRlTGVzc1RoYW4iOnsiQVdTOkVwb2NoVGltZSI6MTc0NzIyNjkxMH19LCJSZXNvdXJjZSI6Imh0dHBzOi8vY2RuLWxmcy5oZi5jby9yZXBvcy82Ni82Zi82NjZmNDY1ZmE3MDE1ODUxNTQwNGU4ZGUyYzZiYzZmZTJmOTBjNDZmOTI5NjI5M2FhMTRkYWVkZWRlYjMyYzUyL2EyYjUxMzRmNGRiYzE0MGQ5YzExZjExY2JhMzIzMzA5OWUwMGFmNDBmMjYyZjEzNmM2OTFmYjdkMzhkMjE5NGM%7EcmVzcG9uc2UtY29udGVudC1kaXNwb3NpdGlvbj0qIn1dfQ__&Signature=Wpavkw9CWRH7Nhh8zajFm61sRMSIRKS%7ELrI8mWScoZoFqLLBCCaXktGfcO6LDT7o57Zi8m109tYycrpFMA-ZPjUN8KWah5kYaX5SCWtjxQ93OQcfpODBgERImGUHUFWh3FiuRdnIdRvxdGeLO3Qiip%7EKWKvLCFy6pgdKI7HtP0o8ZtV0kWL5E27TRxsaXGSXNVOvAl7Yzhgtlmb428od4kmg-1qMtD74aR7nqa%7EzlA11CG6c5yntwMelOXOanHvaF5w%7EL6BUdZwNH%7E8LTI5v2JjsjDntuhpLLpSeWvCxRf0QOFmD0Sg6dNEXf7YFsD81HLtNIxd37e1Wtl5ZmoSKJw__&Key-Pair-Id=K3RPWS32NSSJCE: HTTPSConnectionPool(host='cdn-lfs.hf.co', port=443): Read timed out.\n",
      "Trying to resume download...\n",
      "Error while downloading from https://cdn-lfs.hf.co/repos/66/6f/666f465fa70158515404e8de2c6bc6fe2f90c46f9296293aa14daededeb32c52/19da7aaa4b880e59d56843f1fcb4dd9b599c28a1d9d9af7c1143057c8ffae9f1?response-content-disposition=inline%3B+filename*%3DUTF-8%27%27diffusion_pytorch_model.safetensors%3B+filename%3D%22diffusion_pytorch_model.safetensors%22%3B&Expires=1747225633&Policy=eyJTdGF0ZW1lbnQiOlt7IkNvbmRpdGlvbiI6eyJEYXRlTGVzc1RoYW4iOnsiQVdTOkVwb2NoVGltZSI6MTc0NzIyNTYzM319LCJSZXNvdXJjZSI6Imh0dHBzOi8vY2RuLWxmcy5oZi5jby9yZXBvcy82Ni82Zi82NjZmNDY1ZmE3MDE1ODUxNTQwNGU4ZGUyYzZiYzZmZTJmOTBjNDZmOTI5NjI5M2FhMTRkYWVkZWRlYjMyYzUyLzE5ZGE3YWFhNGI4ODBlNTlkNTY4NDNmMWZjYjRkZDliNTk5YzI4YTFkOWQ5YWY3YzExNDMwNTdjOGZmYWU5ZjE%7EcmVzcG9uc2UtY29udGVudC1kaXNwb3NpdGlvbj0qIn1dfQ__&Signature=Pk8-ZQeVQkH-eavkFs%7ExeoEH7rqhddxWrlhlXcCR712SX%7EmTR%7EuIeyDayg9ANKMCNQXWh9U8mmbWbS1p%7EDmw-EqAF-UaYyNZ09reBH-NMeq-XTtnGG9a-LiUGDrlJOy-5f4TCj9xhxNALQiTjyU89abILe0UsO94aBlwZEgUs5uLd7MQ7qaeXX%7E2gSjBJ-gvuAjPJtbjj6CuWLFgbxUqOGDQy8oeOuiSpoMaks-XcfdMXRB8E5mWAHnC97TnJ1DsGVyif60bqdYEF1X7wGPaQq%7Edo%7E9n8AUB8WEMjU6Xn%7E15JAyKNJJUz75TU2tU-EM0nU1EXizbr7DXS1B20mziJw__&Key-Pair-Id=K3RPWS32NSSJCE: HTTPSConnectionPool(host='cdn-lfs.hf.co', port=443): Read timed out.\n",
      "Trying to resume download...\n"
     ]
    },
    {
     "data": {
      "application/vnd.jupyter.widget-view+json": {
       "model_id": "d6c02fe9285d43d29679d2d91cc055bb",
       "version_major": 2,
       "version_minor": 0
      },
      "text/plain": [
       "diffusion_pytorch_model.safetensors:   1%|          | 21.0M/3.44G [00:00<?, ?B/s]"
      ]
     },
     "metadata": {},
     "output_type": "display_data"
    },
    {
     "data": {
      "application/vnd.jupyter.widget-view+json": {
       "model_id": "77014a801b5c4f9ab041126565670758",
       "version_major": 2,
       "version_minor": 0
      },
      "text/plain": [
       "diffusion_pytorch_model.safetensors:   3%|3         | 10.5M/335M [00:00<?, ?B/s]"
      ]
     },
     "metadata": {},
     "output_type": "display_data"
    },
    {
     "name": "stderr",
     "output_type": "stream",
     "text": [
      "Error while downloading from https://cdn-lfs.hf.co/repos/66/6f/666f465fa70158515404e8de2c6bc6fe2f90c46f9296293aa14daededeb32c52/d008943c017f0092921106440254dbbe00b6a285f7883ec8ba160c3faad88334?response-content-disposition=inline%3B+filename*%3DUTF-8%27%27model.safetensors%3B+filename%3D%22model.safetensors%22%3B&Expires=1747226203&Policy=eyJTdGF0ZW1lbnQiOlt7IkNvbmRpdGlvbiI6eyJEYXRlTGVzc1RoYW4iOnsiQVdTOkVwb2NoVGltZSI6MTc0NzIyNjIwM319LCJSZXNvdXJjZSI6Imh0dHBzOi8vY2RuLWxmcy5oZi5jby9yZXBvcy82Ni82Zi82NjZmNDY1ZmE3MDE1ODUxNTQwNGU4ZGUyYzZiYzZmZTJmOTBjNDZmOTI5NjI5M2FhMTRkYWVkZWRlYjMyYzUyL2QwMDg5NDNjMDE3ZjAwOTI5MjExMDY0NDAyNTRkYmJlMDBiNmEyODVmNzg4M2VjOGJhMTYwYzNmYWFkODgzMzQ%7EcmVzcG9uc2UtY29udGVudC1kaXNwb3NpdGlvbj0qIn1dfQ__&Signature=DbIv6A7heWtXlTSf6yWXZudHSrUhOR4nJTBDz7jEFkmnhhoS4H0WBJDimdhPICivWqCBuO3HbwpIXYC0Cjd2Y8QHVMpzuTsAyoNcAZ8uSs15G4W4YV8nbH8ZJpBnrIuiwHkuLvlrJNQMTJhbCgVdX9ge2Gw2K4olGm0tfQtp9RZRSn7wWmnpHzidY2A1sgEdhBKSiPdzH2XsUcG6rg4z62LC3ShP0obvfvi6M8kdXcFqWoilCa4jJGNHPTTvun9IQ1pcyOIBcvwnavReQU36wEW478nGP4SSwE6UwyJRg%7ErPGXBXnkARcV0UdARxASFyLzjiC7YxXH3e55DsBI1x7Q__&Key-Pair-Id=K3RPWS32NSSJCE: HTTPSConnectionPool(host='cdn-lfs.hf.co', port=443): Read timed out.\n",
      "Trying to resume download...\n"
     ]
    },
    {
     "data": {
      "application/vnd.jupyter.widget-view+json": {
       "model_id": "09bfc22b011243309513e5fc44cb438d",
       "version_major": 2,
       "version_minor": 0
      },
      "text/plain": [
       "model.safetensors:   6%|6         | 31.5M/492M [00:00<?, ?B/s]"
      ]
     },
     "metadata": {},
     "output_type": "display_data"
    },
    {
     "name": "stderr",
     "output_type": "stream",
     "text": [
      "Error while downloading from https://cdn-lfs.hf.co/repos/66/6f/666f465fa70158515404e8de2c6bc6fe2f90c46f9296293aa14daededeb32c52/9d6a233ff6fd5ccb9f76fd99618d73369c52dd3d8222376384d0e601911089e8?response-content-disposition=inline%3B+filename*%3DUTF-8%27%27model.safetensors%3B+filename%3D%22model.safetensors%22%3B&Expires=1747225619&Policy=eyJTdGF0ZW1lbnQiOlt7IkNvbmRpdGlvbiI6eyJEYXRlTGVzc1RoYW4iOnsiQVdTOkVwb2NoVGltZSI6MTc0NzIyNTYxOX19LCJSZXNvdXJjZSI6Imh0dHBzOi8vY2RuLWxmcy5oZi5jby9yZXBvcy82Ni82Zi82NjZmNDY1ZmE3MDE1ODUxNTQwNGU4ZGUyYzZiYzZmZTJmOTBjNDZmOTI5NjI5M2FhMTRkYWVkZWRlYjMyYzUyLzlkNmEyMzNmZjZmZDVjY2I5Zjc2ZmQ5OTYxOGQ3MzM2OWM1MmRkM2Q4MjIyMzc2Mzg0ZDBlNjAxOTExMDg5ZTg%7EcmVzcG9uc2UtY29udGVudC1kaXNwb3NpdGlvbj0qIn1dfQ__&Signature=M8%7EF51Nm8fainKyAFxi8eRbQTtcszY4qbYqrmxhTHb9hTgbhSNU7fQwWG3mFIqP5BVSrNItry3gaCbdeGI-Uwykif1FU1p63QLG2KPCZCDX1g9uzCjqdxCQvLhrNG489Vn4ZoXvxxj9pQfJbDuMPTFU9L17zgzOvPkDbZySmU-jkszUjuzgPhBIpb9CEaqDarS%7ECDL7Xy4Dt82HafFAGwazc%7Ej%7ErwRy1baXNok5GM1bmQpiJODUpEUcp6WCODU4zNOM4kwqnfld1evXG21g63UHu4V056SnDlSR1kdS6ECj9eHioSQInHkV6xSkE6pF05PVVpSCHAUFkEUvniY2vWw__&Key-Pair-Id=K3RPWS32NSSJCE: HTTPSConnectionPool(host='cdn-lfs.hf.co', port=443): Read timed out.\n",
      "Trying to resume download...\n",
      "Error while downloading from https://cdn-lfs.hf.co/repos/66/6f/666f465fa70158515404e8de2c6bc6fe2f90c46f9296293aa14daededeb32c52/a2b5134f4dbc140d9c11f11cba3233099e00af40f262f136c691fb7d38d2194c?response-content-disposition=inline%3B+filename*%3DUTF-8%27%27diffusion_pytorch_model.safetensors%3B+filename%3D%22diffusion_pytorch_model.safetensors%22%3B&Expires=1747226910&Policy=eyJTdGF0ZW1lbnQiOlt7IkNvbmRpdGlvbiI6eyJEYXRlTGVzc1RoYW4iOnsiQVdTOkVwb2NoVGltZSI6MTc0NzIyNjkxMH19LCJSZXNvdXJjZSI6Imh0dHBzOi8vY2RuLWxmcy5oZi5jby9yZXBvcy82Ni82Zi82NjZmNDY1ZmE3MDE1ODUxNTQwNGU4ZGUyYzZiYzZmZTJmOTBjNDZmOTI5NjI5M2FhMTRkYWVkZWRlYjMyYzUyL2EyYjUxMzRmNGRiYzE0MGQ5YzExZjExY2JhMzIzMzA5OWUwMGFmNDBmMjYyZjEzNmM2OTFmYjdkMzhkMjE5NGM%7EcmVzcG9uc2UtY29udGVudC1kaXNwb3NpdGlvbj0qIn1dfQ__&Signature=Wpavkw9CWRH7Nhh8zajFm61sRMSIRKS%7ELrI8mWScoZoFqLLBCCaXktGfcO6LDT7o57Zi8m109tYycrpFMA-ZPjUN8KWah5kYaX5SCWtjxQ93OQcfpODBgERImGUHUFWh3FiuRdnIdRvxdGeLO3Qiip%7EKWKvLCFy6pgdKI7HtP0o8ZtV0kWL5E27TRxsaXGSXNVOvAl7Yzhgtlmb428od4kmg-1qMtD74aR7nqa%7EzlA11CG6c5yntwMelOXOanHvaF5w%7EL6BUdZwNH%7E8LTI5v2JjsjDntuhpLLpSeWvCxRf0QOFmD0Sg6dNEXf7YFsD81HLtNIxd37e1Wtl5ZmoSKJw__&Key-Pair-Id=K3RPWS32NSSJCE: HTTPSConnectionPool(host='cdn-lfs.hf.co', port=443): Read timed out.\n",
      "Trying to resume download...\n",
      "Error while downloading from https://cdn-lfs.hf.co/repos/66/6f/666f465fa70158515404e8de2c6bc6fe2f90c46f9296293aa14daededeb32c52/19da7aaa4b880e59d56843f1fcb4dd9b599c28a1d9d9af7c1143057c8ffae9f1?response-content-disposition=inline%3B+filename*%3DUTF-8%27%27diffusion_pytorch_model.safetensors%3B+filename%3D%22diffusion_pytorch_model.safetensors%22%3B&Expires=1747225633&Policy=eyJTdGF0ZW1lbnQiOlt7IkNvbmRpdGlvbiI6eyJEYXRlTGVzc1RoYW4iOnsiQVdTOkVwb2NoVGltZSI6MTc0NzIyNTYzM319LCJSZXNvdXJjZSI6Imh0dHBzOi8vY2RuLWxmcy5oZi5jby9yZXBvcy82Ni82Zi82NjZmNDY1ZmE3MDE1ODUxNTQwNGU4ZGUyYzZiYzZmZTJmOTBjNDZmOTI5NjI5M2FhMTRkYWVkZWRlYjMyYzUyLzE5ZGE3YWFhNGI4ODBlNTlkNTY4NDNmMWZjYjRkZDliNTk5YzI4YTFkOWQ5YWY3YzExNDMwNTdjOGZmYWU5ZjE%7EcmVzcG9uc2UtY29udGVudC1kaXNwb3NpdGlvbj0qIn1dfQ__&Signature=Pk8-ZQeVQkH-eavkFs%7ExeoEH7rqhddxWrlhlXcCR712SX%7EmTR%7EuIeyDayg9ANKMCNQXWh9U8mmbWbS1p%7EDmw-EqAF-UaYyNZ09reBH-NMeq-XTtnGG9a-LiUGDrlJOy-5f4TCj9xhxNALQiTjyU89abILe0UsO94aBlwZEgUs5uLd7MQ7qaeXX%7E2gSjBJ-gvuAjPJtbjj6CuWLFgbxUqOGDQy8oeOuiSpoMaks-XcfdMXRB8E5mWAHnC97TnJ1DsGVyif60bqdYEF1X7wGPaQq%7Edo%7E9n8AUB8WEMjU6Xn%7E15JAyKNJJUz75TU2tU-EM0nU1EXizbr7DXS1B20mziJw__&Key-Pair-Id=K3RPWS32NSSJCE: HTTPSConnectionPool(host='cdn-lfs.hf.co', port=443): Read timed out.\n",
      "Trying to resume download...\n"
     ]
    },
    {
     "data": {
      "application/vnd.jupyter.widget-view+json": {
       "model_id": "a4d2409a56ed4ba8a2889dab479d438a",
       "version_major": 2,
       "version_minor": 0
      },
      "text/plain": [
       "diffusion_pytorch_model.safetensors:   1%|          | 21.0M/3.44G [00:00<?, ?B/s]"
      ]
     },
     "metadata": {},
     "output_type": "display_data"
    },
    {
     "data": {
      "application/vnd.jupyter.widget-view+json": {
       "model_id": "dee378488a444e9e899dfa5855930ed0",
       "version_major": 2,
       "version_minor": 0
      },
      "text/plain": [
       "diffusion_pytorch_model.safetensors:   3%|3         | 10.5M/335M [00:00<?, ?B/s]"
      ]
     },
     "metadata": {},
     "output_type": "display_data"
    },
    {
     "data": {
      "application/vnd.jupyter.widget-view+json": {
       "model_id": "7082f58aebbd4a379d2472c34b2e0771",
       "version_major": 2,
       "version_minor": 0
      },
      "text/plain": [
       "model.safetensors:   3%|2         | 31.5M/1.22G [00:00<?, ?B/s]"
      ]
     },
     "metadata": {},
     "output_type": "display_data"
    },
    {
     "data": {
      "application/vnd.jupyter.widget-view+json": {
       "model_id": "6c25004a8b2944909ec0d8a1b5af120d",
       "version_major": 2,
       "version_minor": 0
      },
      "text/plain": [
       "Loading pipeline components...:   0%|          | 0/7 [00:00<?, ?it/s]"
      ]
     },
     "metadata": {},
     "output_type": "display_data"
    },
    {
     "data": {
      "application/vnd.jupyter.widget-view+json": {
       "model_id": "90cc074e755a44e296f63167e1ef47b8",
       "version_major": 2,
       "version_minor": 0
      },
      "text/plain": [
       "  0%|          | 0/50 [00:00<?, ?it/s]"
      ]
     },
     "metadata": {},
     "output_type": "display_data"
    }
   ],
   "source": [
    "pipe = StableDiffusionPipeline.from_pretrained(\n",
    "    \"runwayml/stable-diffusion-v1-5\", \n",
    "    torch_dtype=torch.float16\n",
    ").to(\"mps\")\n",
    "\n",
    "prompt = \"a traditional Chinese ink painting of mountains and rivers\"\n",
    "image = pipe(prompt).images[0]\n",
    "\n",
    "image.save(\"output.png\")"
   ]
  },
  {
   "cell_type": "code",
   "execution_count": 34,
   "metadata": {},
   "outputs": [],
   "source": [
    "def poem_to_prompt(poem_text: str) -> str:\n",
    "    # 也可以用 ChatGPT API 自动翻译，这里手动来\n",
    "    translation = {\n",
    "        \"孤舟蓑笠翁，独钓寒江雪\": \"an old fisherman on a lonely boat, fishing alone in the snowy river\",\n",
    "        \"千山鸟飞绝，万径人踪灭\": \"endless mountains with no birds in the sky, countless paths without a single soul\",\n",
    "        \"白日依山尽，黄河入海流\": \"the sun sets behind the mountains, the Yellow River flows into the sea\"\n",
    "    }\n",
    "\n",
    "    english_line = translation.get(poem_text, \"a poetic Chinese ink painting of nature\")\n",
    "    return f\"A painting, depicting: {english_line}\"\n"
   ]
  },
  {
   "cell_type": "code",
   "execution_count": 1,
   "metadata": {},
   "outputs": [
    {
     "data": {
      "application/vnd.jupyter.widget-view+json": {
       "model_id": "6e1cea3156b84a5ba5e5bd7fd0aa249e",
       "version_major": 2,
       "version_minor": 0
      },
      "text/plain": [
       "Loading pipeline components...:   0%|          | 0/7 [00:00<?, ?it/s]"
      ]
     },
     "metadata": {},
     "output_type": "display_data"
    }
   ],
   "source": [
    "from diffusers import StableDiffusionPipeline\n",
    "import torch\n",
    "\n",
    "pipe = StableDiffusionPipeline.from_pretrained(\n",
    "    \"runwayml/stable-diffusion-v1-5\", \n",
    "    torch_dtype=torch.float16\n",
    ").to(\"mps\")\n",
    "\n",
    "def generate_poem_image(poem_text: str, output_path=\"poem_sd.png\"):\n",
    "    prompt = poem_to_prompt(poem_text)\n",
    "    image = pipe(prompt).images[0]\n",
    "    image.save(output_path)\n",
    "    print(f\"生成成功：{output_path}\")\n"
   ]
  },
  {
   "cell_type": "code",
   "execution_count": 3,
   "metadata": {},
   "outputs": [],
   "source": [
    "pipe.save_pretrained(\"./models/taiyi\")"
   ]
  },
  {
   "cell_type": "code",
   "execution_count": 36,
   "metadata": {},
   "outputs": [],
   "source": [
    "import requests\n",
    "\n",
    "def translate_poem_with_deepseek(poem_text: str, api_key: str) -> str:\n",
    "    url = \"https://api.deepseek.com/v1/chat/completions\"\n",
    "\n",
    "    headers = {\n",
    "        \"Authorization\": f\"Bearer {api_key}\",\n",
    "        \"Content-Type\": \"application/json\"\n",
    "    }\n",
    "\n",
    "    data = {\n",
    "        \"model\": \"deepseek-chat\",  # 或 deepseek-coder，如果你想试试别的\n",
    "        \"messages\": [\n",
    "            {\"role\": \"system\", \"content\": \"你是一个翻译家，请将一首古诗翻译成富有画面感和意境的英文描述，用于画图。注意描述词不能超过60个英文单词\"},\n",
    "            {\"role\": \"user\", \"content\": poem_text}\n",
    "        ],\n",
    "        \"temperature\": 0.7,\n",
    "    }\n",
    "\n",
    "    response = requests.post(url, headers=headers, json=data)\n",
    "    \n",
    "    if response.status_code == 200:\n",
    "        return response.json()[\"choices\"][0][\"message\"][\"content\"].strip()\n",
    "    else:\n",
    "        raise RuntimeError(f\"请求失败，状态码 {response.status_code}，响应内容：{response.text}\")\n"
   ]
  },
  {
   "cell_type": "code",
   "execution_count": 37,
   "metadata": {},
   "outputs": [
    {
     "name": "stdout",
     "output_type": "stream",
     "text": [
      "翻译结果： A young shepherd boy points into the distance, where a village of blooming apricot trees emerges through spring mist. His gesture invites travelers to seek warmth and wine beyond the winding path.\n"
     ]
    }
   ],
   "source": [
    "api_key = \"sk-164ad8ec739c466aa7a53489f3f9eaaa\"\n",
    "poem = \"借问酒家何处有，牧童遥指杏花村\"\n",
    "\n",
    "english = translate_poem_with_deepseek(poem, api_key)\n",
    "print(\"翻译结果：\", english)"
   ]
  },
  {
   "cell_type": "code",
   "execution_count": 38,
   "metadata": {},
   "outputs": [],
   "source": [
    "def poem_to_prompt(poem_text: str) -> str:\n",
    "    english = translate_poem_with_deepseek(poem_text, api_key)\n",
    "    return f\"A painting, depicting: {english}\"\n",
    "\n",
    "def generate_poem_image(poem_text: str, output_path=\"poem_sd.png\"):\n",
    "    prompt = poem_to_prompt(poem_text)\n",
    "    print(f\"生成 prompt: {prompt}\")\n",
    "    image = pipe(prompt).images[0]\n",
    "    image.save(output_path)\n",
    "    print(f\"图像已保存至：{output_path}\")\n",
    "\n"
   ]
  },
  {
   "cell_type": "code",
   "execution_count": 39,
   "metadata": {},
   "outputs": [
    {
     "name": "stdout",
     "output_type": "stream",
     "text": [
      "生成 prompt: A painting, depicting: A traveler asks a shepherd boy for directions to a tavern. The child points far into the distance, where a village emerges amidst blooming apricot trees, their pink blossoms glowing in the soft evening light.\n"
     ]
    },
    {
     "data": {
      "application/vnd.jupyter.widget-view+json": {
       "model_id": "f4f23ebdfde34b67bbb636d012f3c208",
       "version_major": 2,
       "version_minor": 0
      },
      "text/plain": [
       "  0%|          | 0/50 [00:00<?, ?it/s]"
      ]
     },
     "metadata": {},
     "output_type": "display_data"
    },
    {
     "name": "stdout",
     "output_type": "stream",
     "text": [
      "图像已保存至：output_wine2.png\n"
     ]
    }
   ],
   "source": [
    "generate_poem_image(\"借问酒家何处有，牧童遥指杏花村\", \"output_wine2.png\")"
   ]
  },
  {
   "cell_type": "code",
   "execution_count": null,
   "metadata": {},
   "outputs": [],
   "source": []
  }
 ],
 "metadata": {
  "kernelspec": {
   "display_name": "diffusers",
   "language": "python",
   "name": "python3"
  },
  "language_info": {
   "codemirror_mode": {
    "name": "ipython",
    "version": 3
   },
   "file_extension": ".py",
   "mimetype": "text/x-python",
   "name": "python",
   "nbconvert_exporter": "python",
   "pygments_lexer": "ipython3",
   "version": "3.9.22"
  }
 },
 "nbformat": 4,
 "nbformat_minor": 2
}

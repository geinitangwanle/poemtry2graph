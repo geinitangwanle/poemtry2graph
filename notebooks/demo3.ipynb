{
 "cells": [
  {
   "cell_type": "code",
   "execution_count": null,
   "metadata": {},
   "outputs": [
    {
     "data": {
      "application/vnd.jupyter.widget-view+json": {
       "model_id": "8fd87f40bc974b688e7a71babc8329dd",
       "version_major": 2,
       "version_minor": 0
      },
      "text/plain": [
       "Fetching 14 files:   0%|          | 0/14 [00:00<?, ?it/s]"
      ]
     },
     "metadata": {},
     "output_type": "display_data"
    },
    {
     "data": {
      "application/vnd.jupyter.widget-view+json": {
       "model_id": "e8a1035dac9443e0a49cc4f9f4911475",
       "version_major": 2,
       "version_minor": 0
      },
      "text/plain": [
       "diffusion_pytorch_model.bin:   0%|          | 0.00/3.44G [00:00<?, ?B/s]"
      ]
     },
     "metadata": {},
     "output_type": "display_data"
    },
    {
     "data": {
      "application/vnd.jupyter.widget-view+json": {
       "model_id": "81365eb471d94ee58a8c529c65a2e350",
       "version_major": 2,
       "version_minor": 0
      },
      "text/plain": [
       "diffusion_pytorch_model.bin:   0%|          | 0.00/335M [00:00<?, ?B/s]"
      ]
     },
     "metadata": {},
     "output_type": "display_data"
    },
    {
     "data": {
      "application/vnd.jupyter.widget-view+json": {
       "model_id": "90d13904b4624f02969c1d4369be18e1",
       "version_major": 2,
       "version_minor": 0
      },
      "text/plain": [
       "pytorch_model.bin:   0%|          | 0.00/409M [00:00<?, ?B/s]"
      ]
     },
     "metadata": {},
     "output_type": "display_data"
    },
    {
     "data": {
      "application/vnd.jupyter.widget-view+json": {
       "model_id": "757812ffcde74192904289c24c2054ed",
       "version_major": 2,
       "version_minor": 0
      },
      "text/plain": [
       "pytorch_model.bin:   1%|          | 10.5M/1.22G [00:00<?, ?B/s]"
      ]
     },
     "metadata": {},
     "output_type": "display_data"
    },
    {
     "name": "stderr",
     "output_type": "stream",
     "text": [
      "Error while downloading from https://cdn-lfs.hf.co/repos/60/45/6045ac8fc8343344ea1653e7c803f2c4673da641dec7089dc8b0bc987c3a543b/62d48b4d841a3178511fa453df0dae59b22089ace64609cc9d5353d0a7f37c26?response-content-disposition=inline%3B+filename*%3DUTF-8%27%27diffusion_pytorch_model.bin%3B+filename%3D%22diffusion_pytorch_model.bin%22%3B&response-content-type=application%2Foctet-stream&Expires=1747237712&Policy=eyJTdGF0ZW1lbnQiOlt7IkNvbmRpdGlvbiI6eyJEYXRlTGVzc1RoYW4iOnsiQVdTOkVwb2NoVGltZSI6MTc0NzIzNzcxMn19LCJSZXNvdXJjZSI6Imh0dHBzOi8vY2RuLWxmcy5oZi5jby9yZXBvcy82MC80NS82MDQ1YWM4ZmM4MzQzMzQ0ZWExNjUzZTdjODAzZjJjNDY3M2RhNjQxZGVjNzA4OWRjOGIwYmM5ODdjM2E1NDNiLzYyZDQ4YjRkODQxYTMxNzg1MTFmYTQ1M2RmMGRhZTU5YjIyMDg5YWNlNjQ2MDljYzlkNTM1M2QwYTdmMzdjMjY%7EcmVzcG9uc2UtY29udGVudC1kaXNwb3NpdGlvbj0qJnJlc3BvbnNlLWNvbnRlbnQtdHlwZT0qIn1dfQ__&Signature=KCUnwEPlKV5QAoI-WD9oe-yupH%7EQER7-UJhiGgzogzjanJTs922X2sCYIrBszbnWAFIbQtSQDwDCGrseHySz7599NdpQelRmVJbETSq5cr53xOxbL1Mw5lZijjd4IJktOm%7EWnQr9AnT6VBJMl%7E9jn2fXeWVLgscUJgwzmiyi9W2Vzbe5WZoVcYrQOy9W%7EL%7Ev-W8BLkhWTxzKpaW3t4Ph%7EcxRIwW2WylHYBV8QRgfNsd769wSYN-l5zsQUcl7KqU7DYNOQqcXt-lN4NTRas-IORquxppUH%7EMVCLZKm-bHn1zDQK8YUzKRt1qDKBlngzNntC5Hj8%7E8NcZ35dK4QqCeJQ__&Key-Pair-Id=K3RPWS32NSSJCE: HTTPSConnectionPool(host='cdn-lfs.hf.co', port=443): Read timed out.\n",
      "Trying to resume download...\n"
     ]
    },
    {
     "data": {
      "application/vnd.jupyter.widget-view+json": {
       "model_id": "91d12347b2c849e1b0401a38d2f4457e",
       "version_major": 2,
       "version_minor": 0
      },
      "text/plain": [
       "diffusion_pytorch_model.bin:  71%|#######1  | 2.44G/3.44G [00:00<?, ?B/s]"
      ]
     },
     "metadata": {},
     "output_type": "display_data"
    },
    {
     "data": {
      "application/vnd.jupyter.widget-view+json": {
       "model_id": "974163fef5f1478e9981c435e5456832",
       "version_major": 2,
       "version_minor": 0
      },
      "text/plain": [
       "Loading pipeline components...:   0%|          | 0/7 [00:00<?, ?it/s]"
      ]
     },
     "metadata": {},
     "output_type": "display_data"
    },
    {
     "name": "stderr",
     "output_type": "stream",
     "text": [
      "An error occurred while trying to fetch /Users/tangren/.cache/huggingface/hub/models--IDEA-CCNL--Taiyi-Stable-Diffusion-1B-Chinese-v0.1/snapshots/8de752b2bb2f8a951d16654254a3a46568c8584b/vae: Error no file named diffusion_pytorch_model.safetensors found in directory /Users/tangren/.cache/huggingface/hub/models--IDEA-CCNL--Taiyi-Stable-Diffusion-1B-Chinese-v0.1/snapshots/8de752b2bb2f8a951d16654254a3a46568c8584b/vae.\n",
      "Defaulting to unsafe serialization. Pass `allow_pickle=False` to raise an error instead.\n",
      "An error occurred while trying to fetch /Users/tangren/.cache/huggingface/hub/models--IDEA-CCNL--Taiyi-Stable-Diffusion-1B-Chinese-v0.1/snapshots/8de752b2bb2f8a951d16654254a3a46568c8584b/unet: Error no file named diffusion_pytorch_model.safetensors found in directory /Users/tangren/.cache/huggingface/hub/models--IDEA-CCNL--Taiyi-Stable-Diffusion-1B-Chinese-v0.1/snapshots/8de752b2bb2f8a951d16654254a3a46568c8584b/unet.\n",
      "Defaulting to unsafe serialization. Pass `allow_pickle=False` to raise an error instead.\n",
      "Expected types for text_encoder: (<class 'transformers.models.clip.modeling_clip.CLIPTextModel'>,), got <class 'transformers.models.bert.modeling_bert.BertModel'>.\n"
     ]
    }
   ],
   "source": [
    "from diffusers import StableDiffusionPipeline\n",
    "import torch\n",
    "\n",
    "pipeline = StableDiffusionPipeline.from_pretrained(\n",
    "    \"IDEA-CCNL/Taiyi-Stable-Diffusion-1B-Chinese-v0.1\",\n",
    "    torch_dtype=torch.float16\n",
    ").to(\"mps\")\n",
    "pipeline.save_pretrained(\"./models/chinese\")"
   ]
  },
  {
   "cell_type": "code",
   "execution_count": null,
   "metadata": {},
   "outputs": [],
   "source": []
  }
 ],
 "metadata": {
  "kernelspec": {
   "display_name": "diffusers",
   "language": "python",
   "name": "python3"
  },
  "language_info": {
   "codemirror_mode": {
    "name": "ipython",
    "version": 3
   },
   "file_extension": ".py",
   "mimetype": "text/x-python",
   "name": "python",
   "nbconvert_exporter": "python",
   "pygments_lexer": "ipython3",
   "version": "3.9.22"
  }
 },
 "nbformat": 4,
 "nbformat_minor": 2
}

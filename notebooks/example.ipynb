 {
 "cells": [
  {
   "cell_type": "markdown",
   "metadata": {},
   "source": [
    "# 古诗生成水墨画示例\n",
    "\n",
    "本notebook演示如何使用该项目从古诗生成水墨画。"
   ]
  },
  {
   "cell_type": "markdown",
   "metadata": {},
   "source": [
    "## 1. 环境设置\n",
    "\n",
    "首先导入必要的库，并设置必要的路径。"
   ]
  },
  {
   "cell_type": "code",
   "execution_count": null,
   "metadata": {},
   "source": [
    "import os\n",
    "import sys\n",
    "import torch\n",
    "from PIL import Image\n",
    "import matplotlib.pyplot as plt\n",
    "\n",
    "# 添加项目根目录到Python路径\n",
    "project_root = os.path.abspath(os.path.join(os.getcwd(), '..'))\n",
    "sys.path.append(project_root)\n",
    "\n",
    "from src.utils.utils import load_config, make_image_grid\n",
    "from src.inference.generate import load_model, generate_image"
   ]
  },
  {
   "cell_type": "markdown",
   "metadata": {},
   "source": [
    "## 2. 配置\n",
    "\n",
    "加载配置文件并设置相关参数。"
   ]
  },
  {
   "cell_type": "code",
   "execution_count": null,
   "metadata": {},
   "source": [
    "# 加载配置\n",
    "config_path = os.path.join(project_root, 'config/train_config.yaml')\n",
    "config = load_config(config_path)\n",
    "\n",
    "# 设置GPU或CPU\n",
    "device = \"cuda:0\" if torch.cuda.is_available() else \"cpu\"\n",
    "print(f\"使用设备: {device}\")\n",
    "\n",
    "# 设置模型路径 - 请根据您的实际路径修改\n",
    "model_path = os.path.join(project_root, 'models/checkpoints/final')\n",
    "\n",
    "# 检查模型路径是否存在\n",
    "if not os.path.exists(model_path):\n",
    "    print(f\"警告: 模型路径不存在: {model_path}，请先训练模型或修改路径\")"
   ]
  },
  {
   "cell_type": "markdown",
   "metadata": {},
   "source": [
    "## 3. 加载模型\n",
    "\n",
    "加载预训练的Stable Diffusion模型，或者您的微调模型。"
   ]
  },
  {
   "cell_type": "code",
   "execution_count": null,
   "metadata": {},
   "source": [
    "# 如果模型不存在，可以使用默认的SD模型进行演示\n",
    "if not os.path.exists(model_path):\n",
    "    print(\"使用默认的Stable Diffusion模型进行演示\")\n",
    "    model_path = config[\"model\"][\"pretrained_model_name_or_path\"]\n",
    "\n",
    "# 加载模型\n",
    "pipeline = load_model(model_path, config, device)"
   ]
  },
  {
   "cell_type": "markdown",
   "metadata": {},
   "source": [
    "## 4. 从古诗生成水墨画\n",
    "\n",
    "现在我们使用加载的模型，从古诗生成水墨画。"
   ]
  },
  {
   "cell_type": "code",
   "execution_count": null,
   "metadata": {},
   "source": [
    "# 示例古诗\n",
    "poetry_samples = [\n",
    "    \"山中夜坐，北风吹雨，叶漏声疏，漏声迟，惊顾枕上，时闻雨声。\",\n",
    "    \"春眠不觉晓，处处闻啼鸟。夜来风雨声，花落知多少。\",\n",
    "    \"两个黄鹂鸣翠柳，一行白鹭上青天。窗含西岭千秋雪，门泊东吴万里船。\",\n",
    "    \"江南好，风景旧曾谙。日出江花红胜火，春来江水绿如蓝。能不忆江南？\"\n",
    "]\n",
    "\n",
    "# 设置随机种子以便结果可复现\n",
    "seed = 42"
   ]
  },
  {
   "cell_type": "code",
   "execution_count": null,
   "metadata": {},
   "source": [
    "# 为每首诗生成图像\n",
    "all_images = []\n",
    "for i, poetry in enumerate(poetry_samples):\n",
    "    print(f\"\\n生成第 {i+1} 首诗的水墨画: {poetry}\")\n",
    "    images, prompt = generate_image(pipeline, poetry, num_images=1, seed=seed + i)\n",
    "    all_images.extend(images)\n",
    "    \n",
    "    # 显示生成的图像\n",
    "    plt.figure(figsize=(6, 6))\n",
    "    plt.imshow(images[0])\n",
    "    plt.title(f\"诗: {poetry[:20]}...\" if len(poetry) > 20 else f\"诗: {poetry}\")\n",
    "    plt.axis('off')\n",
    "    plt.show()"
   ]
  },
  {
   "cell_type": "markdown",
   "metadata": {},
   "source": [
    "## 5. 显示图像网格\n",
    "\n",
    "将生成的所有图像组合成一个网格展示。"
   ]
  },
  {
   "cell_type": "code",
   "execution_count": null,
   "metadata": {},
   "source": [
    "# 创建2x2的图像网格\n",
    "grid_image = make_image_grid(all_images, 2, 2)\n",
    "\n",
    "# 显示网格图像\n",
    "plt.figure(figsize=(12, 12))\n",
    "plt.imshow(grid_image)\n",
    "plt.title(\"古诗生成的水墨画作品\")\n",
    "plt.axis('off')\n",
    "plt.show()"
   ]
  },
  {
   "cell_type": "markdown",
   "metadata": {},
   "source": [
    "## 6. 保存结果\n",
    "\n",
    "将生成的图像保存到文件。"
   ]
  },
  {
   "cell_type": "code",
   "execution_count": null,
   "metadata": {},
   "source": [
    "# 创建输出目录\n",
    "output_dir = os.path.join(project_root, 'data/output')\n",
    "os.makedirs(output_dir, exist_ok=True)\n",
    "\n",
    "# 保存单张图像\n",
    "for i, image in enumerate(all_images):\n",
    "    output_path = os.path.join(output_dir, f\"poem_{i+1}.png\")\n",
    "    image.save(output_path)\n",
    "    print(f\"已保存图像: {output_path}\")\n",
    "\n",
    "# 保存网格图像\n",
    "grid_path = os.path.join(output_dir, \"poetry_grid.png\")\n",
    "grid_image.save(grid_path)\n",
    "print(f\"已保存网格图像: {grid_path}\")"
   ]
  },
  {
   "cell_type": "markdown",
   "metadata": {},
   "source": [
    "## 7. 自定义生成\n",
    "\n",
    "您可以在下面输入您自己的古诗，生成对应的水墨画。"
   ]
  },
  {
   "cell_type": "code",
   "execution_count": null,
   "metadata": {},
   "source": [
    "# 输入您自己的古诗\n",
    "your_poetry = \"\" # 在这里输入您的古诗\n",
    "\n",
    "if your_poetry:\n",
    "    # 生成多张图像并比较\n",
    "    images, prompt = generate_image(pipeline, your_poetry, num_images=4, seed=seed)\n",
    "    \n",
    "    # 创建2x2的图像网格\n",
    "    grid_image = make_image_grid(images, 2, 2)\n",
    "    \n",
    "    # 显示网格图像\n",
    "    plt.figure(figsize=(12, 12))\n",
    "    plt.imshow(grid_image)\n",
    "    plt.title(f\"您的古诗: {your_poetry[:30]}...\" if len(your_poetry) > 30 else f\"您的古诗: {your_poetry}\")\n",
    "    plt.axis('off')\n",
    "    plt.show()\n",
    "    \n",
    "    # 保存结果\n",
    "    custom_path = os.path.join(output_dir, \"custom_poetry_grid.png\")\n",
    "    grid_image.save(custom_path)\n",
    "    print(f\"已保存您的自定义古诗生成结果: {custom_path}\")"
   ]
  }
 ],
 "metadata": {
  "kernelspec": {
   "display_name": "Python 3",
   "language": "python",
   "name": "python3"
  },
  "language_info": {
   "codemirror_mode": {
    "name": "ipython",
    "version": 3
   },
   "file_extension": ".py",
   "mimetype": "text/x-python",
   "name": "python",
   "nbconvert_exporter": "python",
   "pygments_lexer": "ipython3",
   "version": "3.8.10"
  }
 },
 "nbformat": 4,
 "nbformat_minor": 4
}